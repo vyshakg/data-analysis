{
 "cells": [
  {
   "cell_type": "code",
   "execution_count": 6,
   "metadata": {},
   "outputs": [],
   "source": [
    "import pandas as pd\n",
    "import numpy as np"
   ]
  },
  {
   "cell_type": "code",
   "execution_count": 3,
   "metadata": {},
   "outputs": [],
   "source": [
    "df_hotel = pd.read_csv(\"hotel.csv\") "
   ]
  },
  {
   "cell_type": "code",
   "execution_count": 4,
   "metadata": {},
   "outputs": [],
   "source": [
    "def frame_to_sql(source):\n",
    "    f = open('hotel.sql', 'w')\n",
    "    f.write('INSERT INTO hotel ('+ 'id,' + str(', '.join(source.columns)) + ') VALUES ')\n",
    "    f.write('\\n')\n",
    "    count=1\n",
    "    for index, row in source.iterrows(): \n",
    "        lst = np.insert(row.values, 0, index, axis=0)\n",
    "        f.write( str(tuple(lst)))\n",
    "        f.write(';') if count==len(source) else f.write(',\\n')\n",
    "        count=count+1\n",
    "        \n",
    "    f.close()"
   ]
  },
  {
   "cell_type": "code",
   "execution_count": 7,
   "metadata": {},
   "outputs": [],
   "source": [
    "frame_to_sql(df_hotel)"
   ]
  },
  {
   "cell_type": "code",
   "execution_count": 9,
   "metadata": {},
   "outputs": [
    {
     "name": "stdout",
     "output_type": "stream",
     "text": [
      "CREATE TABLE \"data\" (\n",
      "\"id\" INTEGER,\n",
      "  \"address\" TEXT,\n",
      "  \"area\" TEXT,\n",
      "  \"city\" TEXT,\n",
      "  \"hotel_description\" TEXT,\n",
      "  \"hotel_facilities\" TEXT,\n",
      "  \"hotel_star_rating\" TEXT,\n",
      "  \"image_urls\" TEXT,\n",
      "  \"latitude\" REAL,\n",
      "  \"longitude\" REAL,\n",
      "  \"property_name\" TEXT,\n",
      "  \"property_type\" TEXT,\n",
      "  \"room_area\" TEXT,\n",
      "  \"room_count\" INTEGER,\n",
      "  \"room_facilities\" TEXT,\n",
      "  \"room_type\" TEXT,\n",
      "  \"state\" TEXT,\n",
      "  \"tad_review_count\" REAL,\n",
      "  \"tad_review_rating\" REAL,\n",
      "  \"tad_stay_review_rating\" TEXT,\n",
      "  \"room_price\" TEXT,\n",
      "  \"occupancy\" TEXT,\n",
      "  \"additional_info\" TEXT\n",
      ")\n"
     ]
    }
   ],
   "source": [
    "print(pd.io.sql.get_schema(df_hotel, 'data'))"
   ]
  }
 ],
 "metadata": {
  "kernelspec": {
   "display_name": "Python 3",
   "language": "python",
   "name": "python3"
  },
  "language_info": {
   "codemirror_mode": {
    "name": "ipython",
    "version": 3
   },
   "file_extension": ".py",
   "mimetype": "text/x-python",
   "name": "python",
   "nbconvert_exporter": "python",
   "pygments_lexer": "ipython3",
   "version": "3.6.8"
  }
 },
 "nbformat": 4,
 "nbformat_minor": 2
}
