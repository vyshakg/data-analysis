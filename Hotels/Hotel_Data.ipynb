{
 "cells": [
  {
   "cell_type": "code",
   "execution_count": 52,
   "metadata": {},
   "outputs": [],
   "source": [
    "import pandas as pd\n",
    "pd.options.mode.chained_assignment = None\n",
    "pd.set_option('display.max_columns', 50)"
   ]
  },
  {
   "cell_type": "code",
   "execution_count": 30,
   "metadata": {},
   "outputs": [],
   "source": [
    "dfc=pd.read_csv(\"cleartrip.csv\")"
   ]
  },
  {
   "cell_type": "code",
   "execution_count": 31,
   "metadata": {},
   "outputs": [],
   "source": [
    "df_kar = dfc[ dfc[\"state\"]==\"Karnataka\" ]\n",
    "df_kar.dropna(subset=[\"latitude\",\"room_facilities\",\"hotel_star_rating\",\"hotel_description\"],inplace=True)\n",
    "df_kar.drop(axis=1,inplace=True,columns=[\"country\",\"cleartrip_seller_rating\",\"crawl_date\",\"landmark\",\"image_count\",\"locality\",\"pageurl\",\"property_id\",\"province\",\"qts\",\"similar_hotel\",\"pageurl\",\"sitename\",\"tripadvisor_seller_rating\",\"uniq_id\"])"
   ]
  },
  {
   "cell_type": "code",
   "execution_count": 32,
   "metadata": {},
   "outputs": [],
   "source": [
    "df_kar.reset_index(inplace=True)\n",
    "df_kar.drop(axis=1,inplace=True,columns=[\"index\"])"
   ]
  },
  {
   "cell_type": "markdown",
   "metadata": {},
   "source": [
    "## 1. Reading room price and occupancy from stayzilla data"
   ]
  },
  {
   "cell_type": "code",
   "execution_count": 42,
   "metadata": {},
   "outputs": [],
   "source": [
    "dfz = pd.read_csv(\"stayzilla.csv\")\n",
    "dffz = dfz[[\"room_price\",\"occupancy\"]]\n",
    "dffz.dropna(inplace=True)\n",
    "dffz = dffz.iloc[:128]"
   ]
  },
  {
   "cell_type": "code",
   "execution_count": 34,
   "metadata": {},
   "outputs": [],
   "source": [
    "dffz.reset_index(inplace=True)\n",
    "dffz.drop(axis=1,inplace=True,columns=[\"index\"])"
   ]
  },
  {
   "cell_type": "markdown",
   "metadata": {},
   "source": [
    "### adding stayzilla two columns to main dataframe"
   ]
  },
  {
   "cell_type": "code",
   "execution_count": 35,
   "metadata": {},
   "outputs": [],
   "source": [
    "df_kar.loc[:,\"room_price\"]=dffz[\"room_price\"]\n",
    "df_kar.loc[:,\"occupancy\"]=dffz[\"occupancy\"]"
   ]
  },
  {
   "cell_type": "markdown",
   "metadata": {},
   "source": [
    "## 2. Reading additional info,property type and room area from goibibo data"
   ]
  },
  {
   "cell_type": "code",
   "execution_count": 36,
   "metadata": {},
   "outputs": [],
   "source": [
    "dfg = pd.read_csv(\"goibibo.csv\")\n",
    "dfg.dropna(inplace=True)\n",
    "dffg=dfg[[\"additional_info\",\"property_type\",\"room_area\"]]\n",
    "dffg=dffg.iloc[:128]"
   ]
  },
  {
   "cell_type": "code",
   "execution_count": 37,
   "metadata": {},
   "outputs": [],
   "source": [
    "dffg.reset_index(inplace=True)\n",
    "dffg.drop(axis=1,inplace=True,columns=[\"index\"])"
   ]
  },
  {
   "cell_type": "markdown",
   "metadata": {},
   "source": [
    "### adding goibibo three columns to main dataframe"
   ]
  },
  {
   "cell_type": "code",
   "execution_count": 39,
   "metadata": {},
   "outputs": [],
   "source": [
    "df_kar.loc[:,\"additional_info\"]=dffg[\"additional_info\"]\n",
    "df_kar[\"property_type\"]=dffg[\"property_type\"]\n",
    "df_kar[\"room_area\"]=dffg[\"room_area\"]"
   ]
  },
  {
   "cell_type": "code",
   "execution_count": 47,
   "metadata": {},
   "outputs": [
    {
     "data": {
      "text/html": [
       "<div>\n",
       "<style scoped>\n",
       "    .dataframe tbody tr th:only-of-type {\n",
       "        vertical-align: middle;\n",
       "    }\n",
       "\n",
       "    .dataframe tbody tr th {\n",
       "        vertical-align: top;\n",
       "    }\n",
       "\n",
       "    .dataframe thead th {\n",
       "        text-align: right;\n",
       "    }\n",
       "</style>\n",
       "<table border=\"1\" class=\"dataframe\">\n",
       "  <thead>\n",
       "    <tr style=\"text-align: right;\">\n",
       "      <th></th>\n",
       "      <th>address</th>\n",
       "      <th>area</th>\n",
       "      <th>city</th>\n",
       "      <th>hotel_description</th>\n",
       "      <th>hotel_facilities</th>\n",
       "      <th>hotel_star_rating</th>\n",
       "      <th>image_urls</th>\n",
       "      <th>latitude</th>\n",
       "      <th>longitude</th>\n",
       "      <th>property_name</th>\n",
       "      <th>property_type</th>\n",
       "      <th>room_area</th>\n",
       "      <th>room_count</th>\n",
       "      <th>room_facilities</th>\n",
       "      <th>room_type</th>\n",
       "      <th>state</th>\n",
       "      <th>tad_review_count</th>\n",
       "      <th>tad_review_rating</th>\n",
       "      <th>tad_stay_review_rating</th>\n",
       "      <th>room_price</th>\n",
       "      <th>occupancy</th>\n",
       "      <th>additional_info</th>\n",
       "    </tr>\n",
       "  </thead>\n",
       "  <tbody>\n",
       "    <tr>\n",
       "      <th>126</th>\n",
       "      <td>Near Sri Hanuman Temple &amp; Pampasarovara Anegun...</td>\n",
       "      <td>Gangavathi</td>\n",
       "      <td>Gangavati</td>\n",
       "      <td>Shanthidhama is located in Anegundi on the ban...</td>\n",
       "      <td>Food &amp;amp; Beverage:Bar|Restaurant|Personal Se...</td>\n",
       "      <td>1 Star hotel</td>\n",
       "      <td>http://ui.cltpstatic.com/places/hotels/3856/38...</td>\n",
       "      <td>15.351818</td>\n",
       "      <td>76.476682</td>\n",
       "      <td>Shanthidhama</td>\n",
       "      <td>Hotel</td>\n",
       "      <td>17 X 18 Sq.ft.</td>\n",
       "      <td>5</td>\n",
       "      <td>Private Bathroom| Luggage Rack| Sofa | Writing...</td>\n",
       "      <td>Double Bed</td>\n",
       "      <td>Karnataka</td>\n",
       "      <td>NaN</td>\n",
       "      <td>NaN</td>\n",
       "      <td>NaN</td>\n",
       "      <td>473per night incl. tax</td>\n",
       "      <td>2 Adults 2 Kids</td>\n",
       "      <td>Room Service|Restaurant</td>\n",
       "    </tr>\n",
       "    <tr>\n",
       "      <th>127</th>\n",
       "      <td>Pune Bangalore Road Vidya nagar</td>\n",
       "      <td>Near Bus Terminus</td>\n",
       "      <td>Hubli-Dharwad</td>\n",
       "      <td>LocationHeading towards the cultural diversity...</td>\n",
       "      <td>Basics:Internet|Air Conditioning|Non-Smoking R...</td>\n",
       "      <td>3 Star hotel</td>\n",
       "      <td>http://ui.cltpstatic.com/places/hotels/1328/13...</td>\n",
       "      <td>15.368971</td>\n",
       "      <td>75.119174</td>\n",
       "      <td>OYO Premium Near Unkal Lake Hubli</td>\n",
       "      <td>Hotel</td>\n",
       "      <td>18 X 10 Sq.ft.</td>\n",
       "      <td>15</td>\n",
       "      <td>Air Conditioning| Television| Internet / Broad...</td>\n",
       "      <td>Standard Room</td>\n",
       "      <td>Karnataka</td>\n",
       "      <td>90.0</td>\n",
       "      <td>3.5</td>\n",
       "      <td>Location::4.0|Rooms::3.5|Service::4.0|Value::3...</td>\n",
       "      <td>2834per night incl. tax</td>\n",
       "      <td>2 Adults 2 Kids</td>\n",
       "      <td>Room Service|Restaurant</td>\n",
       "    </tr>\n",
       "    <tr>\n",
       "      <th>128</th>\n",
       "      <td>Hampi Village Centre, Near Virupaksha Temple</td>\n",
       "      <td>Hampi Village Centre</td>\n",
       "      <td>Hampi</td>\n",
       "      <td>Gopi Guesthouse is a 2 minute walk from the ma...</td>\n",
       "      <td>Basics:Internet|Air Conditioning|Adjoining Roo...</td>\n",
       "      <td>2 Star hotel</td>\n",
       "      <td>http://ui.cltpstatic.com/places/hotels/7228/72...</td>\n",
       "      <td>15.336193</td>\n",
       "      <td>76.460273</td>\n",
       "      <td>Gopi Guest House</td>\n",
       "      <td>Hotel</td>\n",
       "      <td>17 X 17 Sq.ft.</td>\n",
       "      <td>13</td>\n",
       "      <td>Television | Private Bathroom Luggage Rack | W...</td>\n",
       "      <td>Double Non A/c Ensuite</td>\n",
       "      <td>Karnataka</td>\n",
       "      <td>239.0</td>\n",
       "      <td>4.0</td>\n",
       "      <td>Location::4.5|Rooms::3.5|Service::4.0|Value::4...</td>\n",
       "      <td>2583per night incl. tax</td>\n",
       "      <td>1 Adult 2 Kids</td>\n",
       "      <td>Room Service|Gym/Spa|Restaurant</td>\n",
       "    </tr>\n",
       "  </tbody>\n",
       "</table>\n",
       "</div>"
      ],
      "text/plain": [
       "                                               address                  area  \\\n",
       "126  Near Sri Hanuman Temple & Pampasarovara Anegun...            Gangavathi   \n",
       "127                    Pune Bangalore Road Vidya nagar     Near Bus Terminus   \n",
       "128       Hampi Village Centre, Near Virupaksha Temple  Hampi Village Centre   \n",
       "\n",
       "              city                                  hotel_description  \\\n",
       "126      Gangavati  Shanthidhama is located in Anegundi on the ban...   \n",
       "127  Hubli-Dharwad  LocationHeading towards the cultural diversity...   \n",
       "128          Hampi  Gopi Guesthouse is a 2 minute walk from the ma...   \n",
       "\n",
       "                                      hotel_facilities hotel_star_rating  \\\n",
       "126  Food &amp; Beverage:Bar|Restaurant|Personal Se...      1 Star hotel   \n",
       "127  Basics:Internet|Air Conditioning|Non-Smoking R...      3 Star hotel   \n",
       "128  Basics:Internet|Air Conditioning|Adjoining Roo...      2 Star hotel   \n",
       "\n",
       "                                            image_urls   latitude  longitude  \\\n",
       "126  http://ui.cltpstatic.com/places/hotels/3856/38...  15.351818  76.476682   \n",
       "127  http://ui.cltpstatic.com/places/hotels/1328/13...  15.368971  75.119174   \n",
       "128  http://ui.cltpstatic.com/places/hotels/7228/72...  15.336193  76.460273   \n",
       "\n",
       "                         property_name property_type       room_area  \\\n",
       "126                       Shanthidhama         Hotel  17 X 18 Sq.ft.   \n",
       "127  OYO Premium Near Unkal Lake Hubli         Hotel  18 X 10 Sq.ft.   \n",
       "128                   Gopi Guest House         Hotel  17 X 17 Sq.ft.   \n",
       "\n",
       "     room_count                                    room_facilities  \\\n",
       "126           5  Private Bathroom| Luggage Rack| Sofa | Writing...   \n",
       "127          15  Air Conditioning| Television| Internet / Broad...   \n",
       "128          13  Television | Private Bathroom Luggage Rack | W...   \n",
       "\n",
       "                  room_type      state  tad_review_count  tad_review_rating  \\\n",
       "126              Double Bed  Karnataka               NaN                NaN   \n",
       "127           Standard Room  Karnataka              90.0                3.5   \n",
       "128  Double Non A/c Ensuite  Karnataka             239.0                4.0   \n",
       "\n",
       "                                tad_stay_review_rating  \\\n",
       "126                                                NaN   \n",
       "127  Location::4.0|Rooms::3.5|Service::4.0|Value::3...   \n",
       "128  Location::4.5|Rooms::3.5|Service::4.0|Value::4...   \n",
       "\n",
       "                  room_price        occupancy                  additional_info  \n",
       "126   473per night incl. tax  2 Adults 2 Kids          Room Service|Restaurant  \n",
       "127  2834per night incl. tax  2 Adults 2 Kids          Room Service|Restaurant  \n",
       "128  2583per night incl. tax   1 Adult 2 Kids  Room Service|Gym/Spa|Restaurant  "
      ]
     },
     "execution_count": 47,
     "metadata": {},
     "output_type": "execute_result"
    }
   ],
   "source": [
    "df_kar.index+=1\n",
    "df_kar.tail(3)"
   ]
  },
  {
   "cell_type": "code",
   "execution_count": 50,
   "metadata": {},
   "outputs": [],
   "source": [
    "df_kar.to_csv(\"hotel.csv\",index=False)"
   ]
  }
 ],
 "metadata": {
  "kernelspec": {
   "display_name": "Python 3",
   "language": "python",
   "name": "python3"
  },
  "language_info": {
   "codemirror_mode": {
    "name": "ipython",
    "version": 3
   },
   "file_extension": ".py",
   "mimetype": "text/x-python",
   "name": "python",
   "nbconvert_exporter": "python",
   "pygments_lexer": "ipython3",
   "version": "3.6.8"
  }
 },
 "nbformat": 4,
 "nbformat_minor": 2
}
