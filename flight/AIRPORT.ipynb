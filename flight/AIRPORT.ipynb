{
 "cells": [
  {
   "cell_type": "code",
   "execution_count": 79,
   "metadata": {},
   "outputs": [],
   "source": [
    "import pandas as pd\n",
    "import numpy as np"
   ]
  },
  {
   "cell_type": "code",
   "execution_count": 80,
   "metadata": {},
   "outputs": [],
   "source": [
    "df = pd.read_csv(\"airports.csv\")"
   ]
  },
  {
   "cell_type": "code",
   "execution_count": 81,
   "metadata": {},
   "outputs": [],
   "source": [
    "df= df[[\"name\",\"latitude_deg\",\"longitude_deg\",\"iso_region\",\"municipality\",\"iata_code\",\"score\"]]"
   ]
  },
  {
   "cell_type": "code",
   "execution_count": 82,
   "metadata": {},
   "outputs": [],
   "source": [
    "df.dropna(inplace=True)\n",
    "df = df.reset_index(drop=True)"
   ]
  },
  {
   "cell_type": "markdown",
   "metadata": {},
   "source": [
    "### CITY Data to merge with airport"
   ]
  },
  {
   "cell_type": "code",
   "execution_count": 83,
   "metadata": {},
   "outputs": [
    {
     "name": "stderr",
     "output_type": "stream",
     "text": [
      "/mnt/A02ECA772ECA464E/workspace/Python/jypterbook/lib/python3.6/site-packages/ipykernel_launcher.py:4: SettingWithCopyWarning: \n",
      "A value is trying to be set on a copy of a slice from a DataFrame.\n",
      "Try using .loc[row_indexer,col_indexer] = value instead\n",
      "\n",
      "See the caveats in the documentation: http://pandas.pydata.org/pandas-docs/stable/indexing.html#indexing-view-versus-copy\n",
      "  after removing the cwd from sys.path.\n"
     ]
    }
   ],
   "source": [
    "df_c = pd.read_csv(\"city.csv\")\n",
    "df_city = df_c[[\"name_of_city\",\"state_code\"]]\n",
    "df_city.index+= 1\n",
    "df_city[\"city_id\"]=df_city.index"
   ]
  },
  {
   "cell_type": "markdown",
   "metadata": {},
   "source": [
    "## Mergeing two dataset airport and city"
   ]
  },
  {
   "cell_type": "code",
   "execution_count": 84,
   "metadata": {
    "scrolled": true
   },
   "outputs": [
    {
     "name": "stderr",
     "output_type": "stream",
     "text": [
      "/mnt/A02ECA772ECA464E/workspace/Python/jypterbook/lib/python3.6/site-packages/ipykernel_launcher.py:2: SettingWithCopyWarning: \n",
      "A value is trying to be set on a copy of a slice from a DataFrame.\n",
      "Try using .loc[row_indexer,col_indexer] = value instead\n",
      "\n",
      "See the caveats in the documentation: http://pandas.pydata.org/pandas-docs/stable/indexing.html#indexing-view-versus-copy\n",
      "  \n"
     ]
    }
   ],
   "source": [
    "df[\"merge\"] = df[\"municipality\"].str.upper().str.strip()\n",
    "df_city[\"merge\"] = df_city[\"name_of_city\"].str.upper().str.strip()"
   ]
  },
  {
   "cell_type": "code",
   "execution_count": 85,
   "metadata": {},
   "outputs": [],
   "source": [
    "df_merge = pd.merge(df, df_city, on='merge')"
   ]
  },
  {
   "cell_type": "code",
   "execution_count": 86,
   "metadata": {},
   "outputs": [],
   "source": [
    "df_merge.drop_duplicates(subset='iata_code',keep='last',inplace=True)"
   ]
  },
  {
   "cell_type": "code",
   "execution_count": 87,
   "metadata": {},
   "outputs": [],
   "source": [
    "df_merge.drop(['merge','municipality'], axis=1, inplace=True)\n",
    "df_merge.rename(columns={'name':'airport_name','latitude_deg':'latitude','longitude_deg':'longitude','state_code':'state_id'},inplace=True)\n",
    "df_merge = df_merge[['airport_name','city_id','iata_code','iso_region','latitude','longitude','score','state_id']]\n",
    "df_merge.index+= 1"
   ]
  },
  {
   "cell_type": "code",
   "execution_count": 77,
   "metadata": {},
   "outputs": [],
   "source": [
    "\n",
    "def frame_to_sql(source):\n",
    "    f = open('airport.sql', 'w')\n",
    "    f.write('INSERT INTO airport ('+ 'airport_id,' + str(', '.join(source.columns)) + ') VALUES ')\n",
    "    f.write('\\n')\n",
    "    count=1\n",
    "    for index, row in source.iterrows(): \n",
    "        lst = np.insert(row.values, 0, index, axis=0)\n",
    "        f.write( str(tuple(lst)))\n",
    "        f.write(';') if count==len(source) else f.write(',\\n')\n",
    "        count=count+1\n",
    "        \n",
    "    f.close()"
   ]
  },
  {
   "cell_type": "code",
   "execution_count": 78,
   "metadata": {},
   "outputs": [],
   "source": [
    "frame_to_sql(df_merge)"
   ]
  },
  {
   "cell_type": "code",
   "execution_count": null,
   "metadata": {},
   "outputs": [],
   "source": []
  }
 ],
 "metadata": {
  "kernelspec": {
   "display_name": "Python 3",
   "language": "python",
   "name": "python3"
  },
  "language_info": {
   "codemirror_mode": {
    "name": "ipython",
    "version": 3
   },
   "file_extension": ".py",
   "mimetype": "text/x-python",
   "name": "python",
   "nbconvert_exporter": "python",
   "pygments_lexer": "ipython3",
   "version": "3.6.8"
  }
 },
 "nbformat": 4,
 "nbformat_minor": 2
}
