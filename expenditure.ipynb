{
 "cells": [
  {
   "cell_type": "code",
   "execution_count": 2,
   "metadata": {},
   "outputs": [],
   "source": [
    "import pandas as pd\n",
    "import numpy as np"
   ]
  },
  {
   "cell_type": "code",
   "execution_count": 3,
   "metadata": {
    "scrolled": true
   },
   "outputs": [
    {
     "name": "stdout",
     "output_type": "stream",
     "text": [
      "CPU times: user 36.1 ms, sys: 7.96 ms, total: 44 ms\n",
      "Wall time: 182 ms\n"
     ]
    },
    {
     "data": {
      "text/html": [
       "<div>\n",
       "<style scoped>\n",
       "    .dataframe tbody tr th:only-of-type {\n",
       "        vertical-align: middle;\n",
       "    }\n",
       "\n",
       "    .dataframe tbody tr th {\n",
       "        vertical-align: top;\n",
       "    }\n",
       "\n",
       "    .dataframe thead th {\n",
       "        text-align: right;\n",
       "    }\n",
       "</style>\n",
       "<table border=\"1\" class=\"dataframe\">\n",
       "  <thead>\n",
       "    <tr style=\"text-align: right;\">\n",
       "      <th></th>\n",
       "      <th>edate</th>\n",
       "      <th>statement</th>\n",
       "      <th>dr</th>\n",
       "      <th>cr</th>\n",
       "      <th>bal</th>\n",
       "    </tr>\n",
       "  </thead>\n",
       "  <tbody>\n",
       "    <tr>\n",
       "      <th>452</th>\n",
       "      <td>2018-12-30</td>\n",
       "      <td>ATM-CASH/BELAGO SHRIRANGAPA/Belagola/301218</td>\n",
       "      <td>4000.00</td>\n",
       "      <td>0.0</td>\n",
       "      <td>5583.80</td>\n",
       "    </tr>\n",
       "    <tr>\n",
       "      <th>453</th>\n",
       "      <td>2018-12-30</td>\n",
       "      <td>CASH-REVERSAL-ATM/836413000590/301218/13:58</td>\n",
       "      <td>0.00</td>\n",
       "      <td>4000.0</td>\n",
       "      <td>9583.80</td>\n",
       "    </tr>\n",
       "    <tr>\n",
       "      <th>454</th>\n",
       "      <td>2018-12-30</td>\n",
       "      <td>ECOM PUR/LANDMARK ONLI/MUMBAI/301218/08:50</td>\n",
       "      <td>449.00</td>\n",
       "      <td>0.0</td>\n",
       "      <td>9134.80</td>\n",
       "    </tr>\n",
       "    <tr>\n",
       "      <th>455</th>\n",
       "      <td>2018-12-31</td>\n",
       "      <td>917010081781236:Int.Pd:01-10-2018 to 31-12-2018</td>\n",
       "      <td>0.00</td>\n",
       "      <td>101.0</td>\n",
       "      <td>9235.80</td>\n",
       "    </tr>\n",
       "    <tr>\n",
       "      <th>456</th>\n",
       "      <td>2018-12-31</td>\n",
       "      <td>NEFT/CMS992301009/INFOSYS LIMITED/INFY SALARY FOR</td>\n",
       "      <td>0.00</td>\n",
       "      <td>22103.0</td>\n",
       "      <td>31338.80</td>\n",
       "    </tr>\n",
       "    <tr>\n",
       "      <th>457</th>\n",
       "      <td>2018-12-31</td>\n",
       "      <td>UPI/P2A/836510901163/MANU B E</td>\n",
       "      <td>0.00</td>\n",
       "      <td>3000.0</td>\n",
       "      <td>34338.80</td>\n",
       "    </tr>\n",
       "    <tr>\n",
       "      <th>458</th>\n",
       "      <td>2018-12-31</td>\n",
       "      <td>UPI/P2A/836510995442/RAJIV P</td>\n",
       "      <td>0.00</td>\n",
       "      <td>250.0</td>\n",
       "      <td>34588.80</td>\n",
       "    </tr>\n",
       "    <tr>\n",
       "      <th>459</th>\n",
       "      <td>2018-12-31</td>\n",
       "      <td>POS/SHUBHAM RESTAURAN/MYSORE/311218/06:57</td>\n",
       "      <td>28.00</td>\n",
       "      <td>0.0</td>\n",
       "      <td>34560.80</td>\n",
       "    </tr>\n",
       "    <tr>\n",
       "      <th>460</th>\n",
       "      <td>2018-12-31</td>\n",
       "      <td>ATM-CASH-AXIS/T3RH278801/3129/311218/MYSORE</td>\n",
       "      <td>10000.00</td>\n",
       "      <td>0.0</td>\n",
       "      <td>24560.80</td>\n",
       "    </tr>\n",
       "    <tr>\n",
       "      <th>461</th>\n",
       "      <td>2018-12-31</td>\n",
       "      <td>POS/LOYAL WORLD/MYSORE/311218/12:48</td>\n",
       "      <td>53.35</td>\n",
       "      <td>0.0</td>\n",
       "      <td>24507.45</td>\n",
       "    </tr>\n",
       "  </tbody>\n",
       "</table>\n",
       "</div>"
      ],
      "text/plain": [
       "         edate                                          statement        dr  \\\n",
       "452 2018-12-30        ATM-CASH/BELAGO SHRIRANGAPA/Belagola/301218   4000.00   \n",
       "453 2018-12-30        CASH-REVERSAL-ATM/836413000590/301218/13:58      0.00   \n",
       "454 2018-12-30         ECOM PUR/LANDMARK ONLI/MUMBAI/301218/08:50    449.00   \n",
       "455 2018-12-31    917010081781236:Int.Pd:01-10-2018 to 31-12-2018      0.00   \n",
       "456 2018-12-31  NEFT/CMS992301009/INFOSYS LIMITED/INFY SALARY FOR      0.00   \n",
       "457 2018-12-31                      UPI/P2A/836510901163/MANU B E      0.00   \n",
       "458 2018-12-31                       UPI/P2A/836510995442/RAJIV P      0.00   \n",
       "459 2018-12-31          POS/SHUBHAM RESTAURAN/MYSORE/311218/06:57     28.00   \n",
       "460 2018-12-31        ATM-CASH-AXIS/T3RH278801/3129/311218/MYSORE  10000.00   \n",
       "461 2018-12-31                POS/LOYAL WORLD/MYSORE/311218/12:48     53.35   \n",
       "\n",
       "          cr       bal  \n",
       "452      0.0   5583.80  \n",
       "453   4000.0   9583.80  \n",
       "454      0.0   9134.80  \n",
       "455    101.0   9235.80  \n",
       "456  22103.0  31338.80  \n",
       "457   3000.0  34338.80  \n",
       "458    250.0  34588.80  \n",
       "459      0.0  34560.80  \n",
       "460      0.0  24560.80  \n",
       "461      0.0  24507.45  "
      ]
     },
     "execution_count": 3,
     "metadata": {},
     "output_type": "execute_result"
    }
   ],
   "source": [
    "%%time\n",
    "df = pd.read_csv(\"exp.csv\",names=['edate','statement','dr','cr','bal'],header=0)\n",
    "df[\"edate\"] = pd.to_datetime(df[\"edate\"],format=\"%d-%m-%Y\")\n",
    "df[[\"dr\", \"cr\"]] = df[[\"dr\", \"cr\"]].replace(\" \",0).apply(pd.to_numeric)\n",
    "\n",
    "df =  df[df['edate'].dt.year==2018]\n",
    "df.tail(10)"
   ]
  },
  {
   "cell_type": "code",
   "execution_count": 4,
   "metadata": {},
   "outputs": [
    {
     "data": {
      "text/plain": [
       "edate        datetime64[ns]\n",
       "statement            object\n",
       "dr                  float64\n",
       "cr                  float64\n",
       "bal                 float64\n",
       "dtype: object"
      ]
     },
     "execution_count": 4,
     "metadata": {},
     "output_type": "execute_result"
    }
   ],
   "source": [
    "df.dtypes"
   ]
  },
  {
   "cell_type": "code",
   "execution_count": 5,
   "metadata": {},
   "outputs": [
    {
     "data": {
      "text/plain": [
       "'[{\"month\":1,\"dr_sum\":0.0,\"cr_sum\":16070.0},{\"month\":2,\"dr_sum\":22770.0,\"cr_sum\":15700.0},{\"month\":3,\"dr_sum\":24195.13,\"cr_sum\":27849.0},{\"month\":4,\"dr_sum\":29285.94,\"cr_sum\":21634.0},{\"month\":5,\"dr_sum\":6441.65,\"cr_sum\":15651.0},{\"month\":6,\"dr_sum\":21951.95,\"cr_sum\":27146.41},{\"month\":7,\"dr_sum\":18471.45,\"cr_sum\":23329.0},{\"month\":8,\"dr_sum\":28961.6,\"cr_sum\":22454.0},{\"month\":9,\"dr_sum\":55511.54,\"cr_sum\":38483.0},{\"month\":10,\"dr_sum\":16390.66,\"cr_sum\":39392.5},{\"month\":11,\"dr_sum\":40990.34,\"cr_sum\":38394.25},{\"month\":12,\"dr_sum\":58643.45,\"cr_sum\":62018.0}]'"
      ]
     },
     "execution_count": 5,
     "metadata": {},
     "output_type": "execute_result"
    }
   ],
   "source": [
    "exp_df = df[['edate','dr','cr']]\n",
    "\n",
    "exp_df = exp_df.groupby(exp_df['edate'].dt.month,as_index=False).agg(['sum'])\n",
    "exp_df.columns = exp_df.columns.map('_'.join)\n",
    "exp_df.insert(0,'month',exp_df.index)\n",
    "exp_df.to_json(orient='records')"
   ]
  },
  {
   "cell_type": "code",
   "execution_count": 18,
   "metadata": {},
   "outputs": [],
   "source": [
    "import re\n",
    "\n",
    "def filter(str):\n",
    "    strList = str.split(\"/\")\n",
    "    copy_List = []\n",
    "    for l in strList:\n",
    "        if not bool(re.search(r'\\d', l)):\n",
    "            copy_List.append(l.replace(\" \",\"_\"))\n",
    "    return \" \".join(copy_List)\n",
    "        \n",
    "#     return \" \".join([l.replace(\" \",\"_\") for l in strList])\n",
    "    "
   ]
  },
  {
   "cell_type": "code",
   "execution_count": 19,
   "metadata": {},
   "outputs": [
    {
     "data": {
      "text/html": [
       "<div>\n",
       "<style scoped>\n",
       "    .dataframe tbody tr th:only-of-type {\n",
       "        vertical-align: middle;\n",
       "    }\n",
       "\n",
       "    .dataframe tbody tr th {\n",
       "        vertical-align: top;\n",
       "    }\n",
       "\n",
       "    .dataframe thead th {\n",
       "        text-align: right;\n",
       "    }\n",
       "</style>\n",
       "<table border=\"1\" class=\"dataframe\">\n",
       "  <thead>\n",
       "    <tr style=\"text-align: right;\">\n",
       "      <th></th>\n",
       "      <th>edate</th>\n",
       "      <th>statement</th>\n",
       "      <th>dr</th>\n",
       "      <th>cr</th>\n",
       "      <th>bal</th>\n",
       "    </tr>\n",
       "  </thead>\n",
       "  <tbody>\n",
       "    <tr>\n",
       "      <th>92</th>\n",
       "      <td>2018-04-23</td>\n",
       "      <td>ECOM_PUR PAYTM Noida</td>\n",
       "      <td>200.0</td>\n",
       "      <td>0.0</td>\n",
       "      <td>283.93</td>\n",
       "    </tr>\n",
       "    <tr>\n",
       "      <th>93</th>\n",
       "      <td>2018-04-24</td>\n",
       "      <td>UPI Mr_VYSHAK__G</td>\n",
       "      <td>0.0</td>\n",
       "      <td>1000.0</td>\n",
       "      <td>1283.93</td>\n",
       "    </tr>\n",
       "    <tr>\n",
       "      <th>94</th>\n",
       "      <td>2018-04-24</td>\n",
       "      <td>UPI RAJIV__P</td>\n",
       "      <td>1000.0</td>\n",
       "      <td>0.0</td>\n",
       "      <td>283.93</td>\n",
       "    </tr>\n",
       "    <tr>\n",
       "      <th>95</th>\n",
       "      <td>2018-04-25</td>\n",
       "      <td>ECOM_PUR PAYTM Noida</td>\n",
       "      <td>100.0</td>\n",
       "      <td>0.0</td>\n",
       "      <td>183.93</td>\n",
       "    </tr>\n",
       "    <tr>\n",
       "      <th>96</th>\n",
       "      <td>2018-04-26</td>\n",
       "      <td>UPI RAJIV__P</td>\n",
       "      <td>0.0</td>\n",
       "      <td>1000.0</td>\n",
       "      <td>1183.93</td>\n",
       "    </tr>\n",
       "    <tr>\n",
       "      <th>97</th>\n",
       "      <td>2018-04-26</td>\n",
       "      <td>UPI Mr_VYSHAK__G</td>\n",
       "      <td>1000.0</td>\n",
       "      <td>0.0</td>\n",
       "      <td>183.93</td>\n",
       "    </tr>\n",
       "    <tr>\n",
       "      <th>98</th>\n",
       "      <td>2018-04-27</td>\n",
       "      <td>NEFT INFOSYS_LIMITED INFY_SALARY_FOR</td>\n",
       "      <td>0.0</td>\n",
       "      <td>13959.0</td>\n",
       "      <td>14142.93</td>\n",
       "    </tr>\n",
       "    <tr>\n",
       "      <th>99</th>\n",
       "      <td>2018-04-27</td>\n",
       "      <td>UPI Mr_VYSHAK__G</td>\n",
       "      <td>7641.0</td>\n",
       "      <td>0.0</td>\n",
       "      <td>6501.93</td>\n",
       "    </tr>\n",
       "    <tr>\n",
       "      <th>100</th>\n",
       "      <td>2018-04-30</td>\n",
       "      <td>ATM-CASH BELAGULA BELAGULA</td>\n",
       "      <td>500.0</td>\n",
       "      <td>0.0</td>\n",
       "      <td>6001.93</td>\n",
       "    </tr>\n",
       "    <tr>\n",
       "      <th>101</th>\n",
       "      <td>2018-04-30</td>\n",
       "      <td>ECOM_PUR PAYTM NOIDA</td>\n",
       "      <td>1000.0</td>\n",
       "      <td>0.0</td>\n",
       "      <td>5001.93</td>\n",
       "    </tr>\n",
       "  </tbody>\n",
       "</table>\n",
       "</div>"
      ],
      "text/plain": [
       "         edate                             statement      dr       cr  \\\n",
       "92  2018-04-23                  ECOM_PUR PAYTM Noida   200.0      0.0   \n",
       "93  2018-04-24                      UPI Mr_VYSHAK__G     0.0   1000.0   \n",
       "94  2018-04-24                          UPI RAJIV__P  1000.0      0.0   \n",
       "95  2018-04-25                  ECOM_PUR PAYTM Noida   100.0      0.0   \n",
       "96  2018-04-26                          UPI RAJIV__P     0.0   1000.0   \n",
       "97  2018-04-26                      UPI Mr_VYSHAK__G  1000.0      0.0   \n",
       "98  2018-04-27  NEFT INFOSYS_LIMITED INFY_SALARY_FOR     0.0  13959.0   \n",
       "99  2018-04-27                      UPI Mr_VYSHAK__G  7641.0      0.0   \n",
       "100 2018-04-30            ATM-CASH BELAGULA BELAGULA   500.0      0.0   \n",
       "101 2018-04-30                  ECOM_PUR PAYTM NOIDA  1000.0      0.0   \n",
       "\n",
       "          bal  \n",
       "92     283.93  \n",
       "93    1283.93  \n",
       "94     283.93  \n",
       "95     183.93  \n",
       "96    1183.93  \n",
       "97     183.93  \n",
       "98   14142.93  \n",
       "99    6501.93  \n",
       "100   6001.93  \n",
       "101   5001.93  "
      ]
     },
     "execution_count": 19,
     "metadata": {},
     "output_type": "execute_result"
    }
   ],
   "source": [
    "df_month =  df[df['edate'].dt.month==4]\n",
    "df_month.loc[:,'statement'] = df_month['statement'].apply(filter)\n",
    "df_month.tail(10)\n",
    "# pd.Series(' '.join(df_month['statement']).lower().split(\"/\")).value_counts()[:100]"
   ]
  },
  {
   "cell_type": "code",
   "execution_count": 20,
   "metadata": {},
   "outputs": [
    {
     "data": {
      "text/plain": [
       "UPI                  11\n",
       "ECOM_PUR             10\n",
       "PAYTM                 7\n",
       "NOIDA                 7\n",
       "MYSORE                6\n",
       "MR_VYSHAK__G          4\n",
       "RAJIV__P              4\n",
       "POS                   4\n",
       "ATM-CASH              3\n",
       "GURGAON               2\n",
       "BELAGULA              2\n",
       "HEBBAL_INDUSTRIAL     2\n",
       "BOOKMYSHOW_CO         2\n",
       "S.PIZZA_HUT_SAP       1\n",
       "ADITYA_BIRLA_RETA     1\n",
       "NEFT                  1\n",
       "LIFE_STYLE_INTL_P     1\n",
       "M                     1\n",
       "VISHAL                1\n",
       "INFY_SALARY_FOR       1\n",
       "MANU_B_E              1\n",
       "KFC                   1\n",
       "PHONEPE               1\n",
       "MYNTRA_DESIGN         1\n",
       "INFOSYS_LIMITED       1\n",
       "dtype: int64"
      ]
     },
     "execution_count": 20,
     "metadata": {},
     "output_type": "execute_result"
    }
   ],
   "source": [
    "pd.Series(' '.join(df_month['statement']).upper().split(\" \")).value_counts()[:100].head(25)"
   ]
  },
  {
   "cell_type": "code",
   "execution_count": null,
   "metadata": {},
   "outputs": [],
   "source": []
  },
  {
   "cell_type": "code",
   "execution_count": null,
   "metadata": {},
   "outputs": [],
   "source": []
  },
  {
   "cell_type": "code",
   "execution_count": null,
   "metadata": {},
   "outputs": [],
   "source": []
  },
  {
   "cell_type": "code",
   "execution_count": null,
   "metadata": {},
   "outputs": [],
   "source": []
  },
  {
   "cell_type": "code",
   "execution_count": null,
   "metadata": {},
   "outputs": [],
   "source": []
  },
  {
   "cell_type": "code",
   "execution_count": null,
   "metadata": {},
   "outputs": [],
   "source": []
  },
  {
   "cell_type": "code",
   "execution_count": null,
   "metadata": {},
   "outputs": [],
   "source": []
  },
  {
   "cell_type": "code",
   "execution_count": null,
   "metadata": {},
   "outputs": [],
   "source": []
  },
  {
   "cell_type": "code",
   "execution_count": null,
   "metadata": {},
   "outputs": [],
   "source": []
  }
 ],
 "metadata": {
  "kernelspec": {
   "display_name": "Python 3",
   "language": "python",
   "name": "python3"
  },
  "language_info": {
   "codemirror_mode": {
    "name": "ipython",
    "version": 3
   },
   "file_extension": ".py",
   "mimetype": "text/x-python",
   "name": "python",
   "nbconvert_exporter": "python",
   "pygments_lexer": "ipython3",
   "version": "3.6.8"
  }
 },
 "nbformat": 4,
 "nbformat_minor": 2
}
